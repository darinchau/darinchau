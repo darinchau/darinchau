{
 "cells": [
  {
   "cell_type": "code",
   "execution_count": null,
   "metadata": {},
   "outputs": [],
   "source": [
    "import requests\n",
    "\n",
    "BASE_URL = \"https://leetcode.com\"\n",
    "USER_AGENT = \"Mozilla/5.0 LeetCode API\"\n",
    "\n",
    "csrf = ...\n",
    "\n",
    "headers = {\n",
    "    \"content-type\": \"application/json\",\n",
    "    \"origin\": BASE_URL,\n",
    "    \"referer\": BASE_URL,\n",
    "    \"cookie\": f\"csrftoken={csrf}; LEETCODE_SESSION={}\",\n",
    "    \"x-csrftoken\": csrf,\n",
    "    \"user-agent\": USER_AGENT\n",
    "}\n",
    "\n",
    "body = \n",
    "\n",
    "requests.get(BASE_URL, headers=headers, )"
   ]
  }
 ],
 "metadata": {
  "language_info": {
   "name": "python"
  }
 },
 "nbformat": 4,
 "nbformat_minor": 2
}
